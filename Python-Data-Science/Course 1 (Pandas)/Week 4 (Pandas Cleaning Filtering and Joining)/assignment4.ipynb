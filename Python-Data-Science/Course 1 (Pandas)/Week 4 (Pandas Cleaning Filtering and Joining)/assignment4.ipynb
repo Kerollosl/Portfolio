{
 "cells": [
  {
   "cell_type": "markdown",
   "metadata": {
    "deletable": false,
    "editable": false,
    "etc_identifier": "653a3605-5bda-4e1f-beef-04a0173d3f41",
    "nbgrader": {
     "cell_type": "markdown",
     "checksum": "48770f8b5f5d3062d3badd51fcafc401",
     "grade": false,
     "grade_id": "cell-a6c4f74309fc2379",
     "locked": true,
     "schema_version": 3,
     "solution": false
    }
   },
   "source": [
    "# Assignment 4\n",
    "## Description\n",
    "In this assignment you must read in a file of metropolitan regions and associated sports teams from [assets/wikipedia_data.html](assets/wikipedia_data.html) and answer some questions about each metropolitan region. Each of these regions may have one or more teams from the \"Big 4\": NFL (football, in [assets/nfl.csv](assets/nfl.csv)), MLB (baseball, in [assets/mlb.csv](assets/mlb.csv)), NBA (basketball, in [assets/nba.csv](assets/nba.csv) or NHL (hockey, in [assets/nhl.csv](assets/nhl.csv)). Please keep in mind that all questions are from the perspective of the metropolitan region, and that this file is the \"source of authority\" for the location of a given sports team. Thus teams which are commonly known by a different area (e.g. \"Oakland Raiders\") need to be mapped into the metropolitan region given (e.g. San Francisco Bay Area). This will require some human data understanding outside of the data you've been given (e.g. you will have to hand-code some names, and might need to google to find out where teams are)!\n",
    "\n",
    "For each sport I would like you to answer the question: **what is the win/loss ratio's correlation with the population of the city it is in?** Win/Loss ratio refers to the number of wins over the number of wins plus the number of losses. Remember that to calculate the correlation with [`pearsonr`](https://docs.scipy.org/doc/scipy/reference/generated/scipy.stats.pearsonr.html), so you are going to send in two ordered lists of values, the populations from the wikipedia_data.html file and the win/loss ratio for a given sport in the same order. Average the win/loss ratios for those cities which have multiple teams of a single sport. Each sport is worth an equal amount in this assignment (20%\\*4=80%) of the grade for this assignment. You should only use data **from year 2018** for your analysis -- this is important!\n",
    "\n",
    "## Notes\n",
    "\n",
    "1. Do not include data about the MLS or CFL in any of the work you are doing, we're only interested in the Big 4 in this assignment.\n",
    "2. I highly suggest that you first tackle the four correlation questions in order, as they are all similar and worth the majority of grades for this assignment. This is by design!\n",
    "3. It's fair game to talk with peers about high level strategy as well as the relationship between metropolitan areas and sports teams. However, do not post code solving aspects of the assignment (including such as dictionaries mapping areas to teams, or regexes which will clean up names).\n",
    "4. There may be more teams than the assert statements test, remember to collapse multiple teams in one city into a single value!"
   ]
  },
  {
   "cell_type": "markdown",
   "metadata": {
    "deletable": false,
    "editable": false,
    "nbgrader": {
     "cell_type": "markdown",
     "checksum": "369ff9ecf0ee04640574205cbc697f94",
     "grade": false,
     "grade_id": "cell-712b2b5da63d4505",
     "locked": true,
     "schema_version": 3,
     "solution": false
    }
   },
   "source": [
    "## Question 1\n",
    "For this question, calculate the win/loss ratio's correlation with the population of the city it is in for the **NHL** using **2018** data."
   ]
  },
  {
   "cell_type": "code",
   "execution_count": 190,
   "metadata": {},
   "outputs": [],
   "source": [
    "%%capture\n",
    "#RUN FIRST, installs a missing library\n",
    "import sys\n",
    "!{sys.executable} -m pip install lxml==4.4.1"
   ]
  },
  {
   "cell_type": "code",
   "execution_count": 191,
   "metadata": {
    "deletable": false,
    "nbgrader": {
     "cell_type": "code",
     "checksum": "1cac4803b02502929f5b1612d48db2b5",
     "grade": false,
     "grade_id": "cell-69b16e4386e58030",
     "locked": false,
     "schema_version": 3,
     "solution": true
    }
   },
   "outputs": [],
   "source": [
    "import pandas as pd\n",
    "import numpy as np\n",
    "import scipy.stats as stats\n",
    "import re\n",
    "\n",
    "nhl_df=pd.read_csv(\"assets/nhl.csv\")\n",
    "cities=pd.read_html(\"assets/wikipedia_data.html\")[1]\n",
    "cities=cities.iloc[:-1,[0,3,5,6,7,8]]\n",
    "\n",
    "def nhl_correlation(): \n",
    "    # YOUR CODE HERE\n",
    "   # raise NotImplementedError()\n",
    "    test_df = nhl_df[['team','W','L','year']]\n",
    "    test_df = test_df[test_df['year']==2018]\n",
    "    test_df=test_df.drop([0,9,18,26])\n",
    "    test_df['W/L Ratio'] = test_df['W'].astype(int)/(test_df['W'].astype(int)+test_df['L'].astype(int))\n",
    " \n",
    "\n",
    "    replacements = {\n",
    "    r'(.+)\\*': r'\\1'\n",
    "    }\n",
    "    \n",
    "    test_df = test_df.replace(replacements, regex=True)\n",
    "    test_df['team_name'] = test_df['team'].str.extract(r'(\\w+)\\b$')\n",
    "    \n",
    "    \n",
    "    team_replacements = {\n",
    "    r'Wings': r'Red Wings',\n",
    "    r'Jackets': r'Blue Jackets',\n",
    "    r'Leafs': r'Maple Leafs',\n",
    "    r'Knights': r'Golden Knights',\n",
    "    }\n",
    "    test_df['team_name'] = test_df['team_name'].replace(team_replacements, regex=True)\n",
    "    test_df['team_city'] = test_df['team'].str.replace('|'.join(test_df['team_name']),'').str.strip()\n",
    "    #print(test_df)\n",
    "\n",
    "    \n",
    "    \n",
    "    city_replacements = {\n",
    "    r'Washington': r'Washington, D.C.',\n",
    "    r'New York': r'New York City',\n",
    "    r'New Jersey': r'New York City',\n",
    "    r'Dallas': r'Dallas–Fort Worth',\n",
    "    r'Minnesota': r'Minneapolis–Saint Paul',\n",
    "    r'Vegas': r'Las Vegas',\n",
    "    r'Tampa Bay': r'Tampa Bay Area',\n",
    "    r'Arizona': r'Phoenix',\n",
    "    r'Colorado': r'Denver',\n",
    "    r'Carolina': r'Raleigh',\n",
    "    r'Florida': r'Miami–Fort Lauderdale',\n",
    "    r'San Jose': r'San Francisco Bay Area',\n",
    "    r'Anaheim': r'Los Angeles'\n",
    "    }\n",
    "    \n",
    "    \n",
    "    cities_df= cities[['Metropolitan area','Population (2016 est.)[8]','NHL']]\n",
    "    cities_df= cities_df[cities_df['NHL'] != '—']\n",
    "    test_df['team_city']= test_df['team_city'].replace(city_replacements, regex=True)\n",
    "    cities_df = cities_df[~cities_df['NHL'].str.match(r'\\[note \\d+\\]')]\n",
    "    \n",
    "    merge = pd.merge(test_df, cities_df, how='right', left_on='team_city', right_on='Metropolitan area')\n",
    "    \n",
    "    merge=merge[merge['team_name']!='Devils']\n",
    "    merge=merge[merge['team_name']!='Islanders']\n",
    "    merge=merge[merge['team_name']!='Ducks']\n",
    "    merge.loc[merge[\"Metropolitan area\"] == \"New York City\", \"W/L Ratio\"] = 0.5182013333333334 # mean of NY W-L%\n",
    "    merge.loc[merge[\"Metropolitan area\"] == \"Los Angeles\", \"W/L Ratio\"] = 0.6228945\n",
    "    #return test_df#merge\n",
    "    \n",
    "\n",
    "    \n",
    "    #return merge[['Metropolitan area','team_name','Population (2016 est.)[8]']].shape #cities[\"Metropolitan area\"]\n",
    "    population_by_region = merge['Population (2016 est.)[8]'].astype(float) # pass in metropolitan area population from cities\n",
    "    win_loss_by_region = merge['W/L Ratio'].astype(float) # pass in win/loss ratio from nhl_df in the same order as cities[\"Metropolitan area\"]\n",
    "    \n",
    "    assert len(population_by_region) == len(win_loss_by_region), \"Q1: Your lists must be the same length\"\n",
    "    assert len(population_by_region) == 28, \"Q1: There should be 28 teams being analysed for NHL\"\n",
    "    \n",
    "    return stats.pearsonr(population_by_region, win_loss_by_region)[0]\n",
    "#nhl_correlation()"
   ]
  },
  {
   "cell_type": "code",
   "execution_count": null,
   "metadata": {
    "deletable": false,
    "editable": false,
    "nbgrader": {
     "cell_type": "code",
     "checksum": "52a581df513c71153e105b93764cda4b",
     "grade": true,
     "grade_id": "cell-ebe0b2dfe1067e63",
     "locked": true,
     "points": 20,
     "schema_version": 3,
     "solution": false
    }
   },
   "outputs": [],
   "source": []
  },
  {
   "cell_type": "markdown",
   "metadata": {
    "deletable": false,
    "editable": false,
    "nbgrader": {
     "cell_type": "markdown",
     "checksum": "988912cae4968d81473f46d783e79c16",
     "grade": false,
     "grade_id": "cell-cb964e690298b71d",
     "locked": true,
     "schema_version": 3,
     "solution": false
    }
   },
   "source": [
    "## Question 2\n",
    "For this question, calculate the win/loss ratio's correlation with the population of the city it is in for the **NBA** using **2018** data."
   ]
  },
  {
   "cell_type": "code",
   "execution_count": 225,
   "metadata": {
    "deletable": false,
    "nbgrader": {
     "cell_type": "code",
     "checksum": "9394222aafc8ccab0a228098ba0d6010",
     "grade": false,
     "grade_id": "cell-5a5f21279e3d3572",
     "locked": false,
     "schema_version": 3,
     "solution": true
    }
   },
   "outputs": [
    {
     "data": {
      "text/plain": [
       "-0.176630174061996"
      ]
     },
     "execution_count": 225,
     "metadata": {},
     "output_type": "execute_result"
    }
   ],
   "source": [
    "import pandas as pd\n",
    "import numpy as np\n",
    "import scipy.stats as stats\n",
    "import re\n",
    "\n",
    "nba_df=pd.read_csv(\"assets/nba.csv\")\n",
    "cities=pd.read_html(\"assets/wikipedia_data.html\")[1]\n",
    "cities=cities.iloc[:-1,[0,3,5,6,7,8]]\n",
    "\n",
    "def nba_correlation():\n",
    "    # YOUR CODE HERE\n",
    "    #raise NotImplementedError()\n",
    "    test_df = nba_df[nba_df['year']==2018]\n",
    "    test_df = test_df[['team','W','L']]\n",
    "    \n",
    "    \n",
    "    replacements = {\n",
    "    r'([\\d\\w ]+)[\\W\\d]*': r'\\1'\n",
    "    }\n",
    "    city_replacements = {\n",
    "    r'Washington': r'Washington, D.C.',\n",
    "    r'New York': r'New York City',\n",
    "    r'Brooklyn': r'New York City',\n",
    "    r'Dallas': r'Dallas–Fort Worth',\n",
    "    r'Minnesota': r'Minneapolis–Saint Paul',\n",
    "    r'Miami': r'Miami–Fort Lauderdale',\n",
    "    r'Golden State':r'San Francisco Bay Area',\n",
    "    r'Utah':r'Salt Lake City',\n",
    "    r'Indiana':r'Indianapolis',\n",
    "    r'Portland Trail':r'Portland'\n",
    "    }\n",
    "    \n",
    "    \n",
    "    test_df['team'] = test_df['team'].replace(replacements, regex=True)\n",
    "    test_df['team_name'] = test_df['team'].str.extract(r'(\\w+)\\b$')\n",
    "    test_df['team_city'] = test_df['team'].str.replace('|'.join(test_df['team_name']),'').str.strip()\n",
    "    test_df['team_city']= test_df['team_city'].replace(city_replacements, regex=True)\n",
    "    test_df['W/L Ratio'] = test_df['W'].astype(int)/(test_df['W'].astype(int)+test_df['L'].astype(int))\n",
    "    \n",
    "    cities_df = cities[['Metropolitan area','Population (2016 est.)[8]','NBA']]\n",
    "    cities_df= cities_df[cities_df['NBA'] != '—']\n",
    "    \n",
    "    merge = pd.merge(test_df, cities_df, how='right', left_on='team_city', right_on='Metropolitan area').dropna()\n",
    "    merge=merge[merge['team_name']!='Nets']\n",
    "    merge=merge[merge['team_name']!='Clippers']\n",
    "    merge.loc[merge[\"Metropolitan area\"] == \"New York City\", \"W/L Ratio\"] = 0.3475\n",
    "    merge.loc[merge[\"Metropolitan area\"] == \"Los Angeles\", \"W/L Ratio\"] = 0.4695\n",
    "    \n",
    "    \n",
    "    #return merge[['team_name','team_city','Metropolitan area','W/L%','NBA','Population (2016 est.)[8]']].reset_index()\n",
    "    \n",
    "    population_by_region = merge['Population (2016 est.)[8]'].astype('float') # pass in metropolitan area population from cities\n",
    "    win_loss_by_region = merge['W/L Ratio'].astype('float') # pass in win/loss ratio from nba_df in the same order as cities[\"Metropolitan area\"]\n",
    "    assert len(population_by_region) == len(win_loss_by_region), \"Q2: Your lists must be the same length\"\n",
    "    assert len(population_by_region) == 28, \"Q2: There should be 28 teams being analysed for NBA\"\n",
    "\n",
    "    return stats.pearsonr(population_by_region, win_loss_by_region)[0]\n",
    "nba_correlation()"
   ]
  },
  {
   "cell_type": "code",
   "execution_count": null,
   "metadata": {
    "deletable": false,
    "editable": false,
    "nbgrader": {
     "cell_type": "code",
     "checksum": "bbdeb8eb22f525a34c10dc8798324e42",
     "grade": true,
     "grade_id": "cell-e573b2b4a282b470",
     "locked": true,
     "points": 20,
     "schema_version": 3,
     "solution": false
    }
   },
   "outputs": [],
   "source": []
  },
  {
   "cell_type": "markdown",
   "metadata": {
    "deletable": false,
    "editable": false,
    "nbgrader": {
     "cell_type": "markdown",
     "checksum": "1a1a5809f675ca033086422007cd73bd",
     "grade": false,
     "grade_id": "cell-96e15e4335df78f4",
     "locked": true,
     "schema_version": 3,
     "solution": false
    }
   },
   "source": [
    "## Question 3\n",
    "For this question, calculate the win/loss ratio's correlation with the population of the city it is in for the **MLB** using **2018** data."
   ]
  },
  {
   "cell_type": "code",
   "execution_count": 258,
   "metadata": {
    "deletable": false,
    "nbgrader": {
     "cell_type": "code",
     "checksum": "27e8c0da6c9fa0dffc10488314335b6c",
     "grade": false,
     "grade_id": "cell-33b00fc3f3467b0c",
     "locked": false,
     "schema_version": 3,
     "solution": true
    }
   },
   "outputs": [
    {
     "data": {
      "text/plain": [
       "0.15027709337426867"
      ]
     },
     "execution_count": 258,
     "metadata": {},
     "output_type": "execute_result"
    }
   ],
   "source": [
    "import pandas as pd\n",
    "import numpy as np\n",
    "import scipy.stats as stats\n",
    "import re\n",
    "\n",
    "mlb_df=pd.read_csv(\"assets/mlb.csv\")\n",
    "cities=pd.read_html(\"assets/wikipedia_data.html\")[1]\n",
    "cities=cities.iloc[:-1,[0,3,5,6,7,8]]\n",
    "\n",
    "def mlb_correlation(): \n",
    "    # YOUR CODE HERE\n",
    "    #raise NotImplementedError()\n",
    "    test_df = mlb_df[mlb_df['year']==2018]\n",
    "    cities_df = cities[['Metropolitan area','Population (2016 est.)[8]','MLB']]\n",
    "    cities_df= cities_df[cities_df['MLB'] != '—']\n",
    "    test_df['team_name'] = test_df['team'].str.extract(r'(\\w+)\\b$')\n",
    "    test_df['team_city'] = test_df['team'].str.replace('|'.join(test_df['team_name']),'').str.strip()\n",
    "    \n",
    "    city_replacements = {\n",
    "    r'Washington': r'Washington, D.C.',\n",
    "    r'New York': r'New York City',\n",
    "    r'San Francisco': r'San Francisco Bay Area',\n",
    "    r'Oakland': r'San Francisco Bay Area',\n",
    "    r'Texas': r'Dallas–Fort Worth',\n",
    "    r'Minnesota': r'Minneapolis–Saint Paul',\n",
    "    r'Miami': r'Miami–Fort Lauderdale',\n",
    "    r'Colorado':r'Denver',\n",
    "    r'Arizona':r'Phoenix',\n",
    "    r'Indiana':r'Indianapolis',\n",
    "    r'Boston Red':r'Boston',\n",
    "    r'Chicago White':r'Chicago',\n",
    "    r'Toronto Blue':r'Toronto',\n",
    "    r'Tampa Bay':r'Tampa Bay Area',\n",
    "    }\n",
    "    test_df['team_city']= test_df['team_city'].replace(city_replacements, regex=True)\n",
    "    \n",
    "    merge = pd.merge(test_df,cities_df, how='outer', left_on='team_city', right_on='Metropolitan area').dropna()\n",
    "    merge['W/L Ratio'] = merge['W'].astype(int)/(merge['W'].astype(int)+merge['L'].astype(int))\n",
    "    \n",
    "    merge=merge[merge['team_name']!='Cubs']\n",
    "    merge=merge[merge['team_name']!='Mets']\n",
    "    merge=merge[merge['team_name']!='Giants']\n",
    "    merge=merge[merge['team_name']!='Dodgers']\n",
    "    merge.loc[merge[\"Metropolitan area\"] == \"New York City\", \"W/L Ratio\"] = 0.5462965\n",
    "    merge.loc[merge[\"Metropolitan area\"] == \"Los Angeles\", \"W/L Ratio\"] = 0.529122\n",
    "    merge.loc[merge[\"Metropolitan area\"] == \"San Francisco Bay Area\", \"W/L Ratio\"] = 0.524691\n",
    "    merge.loc[merge[\"Metropolitan area\"] == \"Chicago\", \"W/L Ratio\"] = 0.482769\n",
    "    \n",
    "    \n",
    "    #return merge\n",
    "    population_by_region = merge['Population (2016 est.)[8]'].astype('float') # pass in metropolitan area population from cities\n",
    "    win_loss_by_region = merge['W/L Ratio'].astype('float') # pass in win/loss ratio from mlb_df in the same order as cities[\"Metropolitan area\"]\n",
    "\n",
    "    assert len(population_by_region) == len(win_loss_by_region), \"Q3: Your lists must be the same length\"\n",
    "    assert len(population_by_region) == 26, \"Q3: There should be 26 teams being analysed for MLB\"\n",
    "\n",
    "    return stats.pearsonr(population_by_region, win_loss_by_region)[0]\n",
    "mlb_correlation()"
   ]
  },
  {
   "cell_type": "code",
   "execution_count": null,
   "metadata": {
    "deletable": false,
    "editable": false,
    "nbgrader": {
     "cell_type": "code",
     "checksum": "cda33b094ba19ccc37a481e0dd29e0bc",
     "grade": true,
     "grade_id": "cell-764d4476f425c5a2",
     "locked": true,
     "points": 20,
     "schema_version": 3,
     "solution": false
    }
   },
   "outputs": [],
   "source": []
  },
  {
   "cell_type": "markdown",
   "metadata": {
    "deletable": false,
    "editable": false,
    "nbgrader": {
     "cell_type": "markdown",
     "checksum": "6977a6da9ed6d8b7a0b7e37bbeda709b",
     "grade": false,
     "grade_id": "cell-793df6c04dfb126e",
     "locked": true,
     "schema_version": 3,
     "solution": false
    }
   },
   "source": [
    "## Question 4\n",
    "For this question, calculate the win/loss ratio's correlation with the population of the city it is in for the **NFL** using **2018** data."
   ]
  },
  {
   "cell_type": "code",
   "execution_count": 285,
   "metadata": {
    "deletable": false,
    "nbgrader": {
     "cell_type": "code",
     "checksum": "c4914ad1e119278ec2bd567c52640b66",
     "grade": false,
     "grade_id": "cell-8ccebc209aeec8d9",
     "locked": false,
     "schema_version": 3,
     "solution": true
    }
   },
   "outputs": [
    {
     "data": {
      "text/plain": [
       "0.004922112149349412"
      ]
     },
     "execution_count": 285,
     "metadata": {},
     "output_type": "execute_result"
    }
   ],
   "source": [
    "import pandas as pd\n",
    "import numpy as np\n",
    "import scipy.stats as stats\n",
    "import re\n",
    "\n",
    "nfl_df=pd.read_csv(\"assets/nfl.csv\")\n",
    "cities=pd.read_html(\"assets/wikipedia_data.html\")[1]\n",
    "cities=cities.iloc[:-1,[0,3,5,6,7,8]]\n",
    "\n",
    "def nfl_correlation(): \n",
    "    # YOUR CODE HERE\n",
    "    #raise NotImplementedError()\n",
    "    test_df = nfl_df[nfl_df['year']==2018]\n",
    "    cities_df = cities[['Metropolitan area','Population (2016 est.)[8]','NFL']]\n",
    "    cities_df= cities_df[cities_df['NFL'] != '—']\n",
    "    test_df = test_df.drop([0,5,10,15,20,25,30,35])\n",
    "    test_df['W/L Ratio'] = test_df['W'].astype(int)/(test_df['W'].astype(int)+test_df['L'].astype(int))\n",
    "\n",
    "    \n",
    "    replacements = {\n",
    "    r'([\\d\\w ]+)[\\W]*': r'\\1'\n",
    "    }\n",
    "    \n",
    "    city_replacements = {\n",
    "    r'Washington': r'Washington, D.C.',\n",
    "    r'New York': r'New York City',\n",
    "    r'San Francisco': r'San Francisco Bay Area',\n",
    "    r'Oakland': r'San Francisco Bay Area',\n",
    "    r'Dallas': r'Dallas–Fort Worth',\n",
    "    r'Minnesota': r'Minneapolis–Saint Paul',\n",
    "    r'Miami': r'Miami–Fort Lauderdale',\n",
    "    r'New England':r'Boston',\n",
    "    r'Arizona':r'Phoenix',\n",
    "    r'Tampa Bay':r'Tampa Bay Area',\n",
    "    r'Tennessee':r'Nashville',\n",
    "    r'Carolina':r'Charlotte',\n",
    "    }\n",
    "    \n",
    "    \n",
    "    test_df['team'] = test_df['team'].replace(replacements, regex=True)\n",
    "    test_df['team_name'] = test_df['team'].str.extract(r'(\\w+)\\b$')\n",
    "    test_df= test_df[['team','team_name','W/L Ratio']]\n",
    "    \n",
    "    test_df['team_city'] = test_df['team'].str.replace('|'.join(test_df['team_name']),'').str.strip()\n",
    "    test_df['team_city']= test_df['team_city'].replace(city_replacements, regex=True)\n",
    "    \n",
    "    merge = pd.merge(test_df, cities_df, how='outer', left_on='team_city', right_on='Metropolitan area').dropna()\n",
    "    \n",
    "    merge=merge[merge['team_name']!='Raiders']\n",
    "    merge=merge[merge['team_name']!='Giants']\n",
    "    merge=merge[merge['team_name']!='Rams']\n",
    "    merge.loc[merge[\"Metropolitan area\"] == \"New York City\", \"W/L Ratio\"] = 0.28125\n",
    "    merge.loc[merge[\"Metropolitan area\"] == \"Los Angeles\", \"W/L Ratio\"] = 0.78125\n",
    "    merge.loc[merge[\"Metropolitan area\"] == \"San Francisco Bay Area\", \"W/L Ratio\"] = 0.25\n",
    "    \n",
    "    #return merge\n",
    "    population_by_region = merge['Population (2016 est.)[8]'].astype('float') # pass in metropolitan area population from cities\n",
    "    win_loss_by_region = merge['W/L Ratio'].astype('float') # pass in win/loss ratio from nfl_df in the same order as cities[\"Metropolitan area\"]\n",
    "\n",
    "    assert len(population_by_region) == len(win_loss_by_region), \"Q4: Your lists must be the same length\"\n",
    "    assert len(population_by_region) == 29, \"Q4: There should be 29 teams being analysed for NFL\"\n",
    "\n",
    "    return stats.pearsonr(population_by_region, win_loss_by_region)[0]\n",
    "nfl_correlation()"
   ]
  },
  {
   "cell_type": "code",
   "execution_count": null,
   "metadata": {
    "deletable": false,
    "editable": false,
    "nbgrader": {
     "cell_type": "code",
     "checksum": "e9415d6399aa49e3a1a60813afdefa3b",
     "grade": true,
     "grade_id": "cell-de7b148b9554dbda",
     "locked": true,
     "points": 20,
     "schema_version": 3,
     "solution": false
    }
   },
   "outputs": [],
   "source": []
  },
  {
   "cell_type": "markdown",
   "metadata": {
    "deletable": false,
    "editable": false,
    "nbgrader": {
     "cell_type": "markdown",
     "checksum": "b02d5cd3273f561e4ae939bb2a41740c",
     "grade": false,
     "grade_id": "cell-97b49d8639e908c4",
     "locked": true,
     "schema_version": 3,
     "solution": false
    }
   },
   "source": [
    "## Question 5\n",
    "In this question I would like you to explore the hypothesis that **given that an area has two sports teams in different sports, those teams will perform the same within their respective sports**. How I would like to see this explored is with a series of paired t-tests (so use [`ttest_rel`](https://docs.scipy.org/doc/scipy/reference/generated/scipy.stats.ttest_rel.html)) between all pairs of sports. Are there any sports where we can reject the null hypothesis? Again, average values where a sport has multiple teams in one region. Remember, you will only be including, for each sport, cities which have teams engaged in that sport, drop others as appropriate. This question is worth 20% of the grade for this assignment."
   ]
  },
  {
   "cell_type": "code",
   "execution_count": null,
   "metadata": {
    "deletable": false,
    "nbgrader": {
     "cell_type": "code",
     "checksum": "6d78c961eb66f8d8c81f06d33ae8f393",
     "grade": false,
     "grade_id": "cell-92f25f44b8d1179f",
     "locked": false,
     "schema_version": 3,
     "solution": true
    }
   },
   "outputs": [],
   "source": [
    "import pandas as pd\n",
    "import numpy as np\n",
    "import scipy.stats as stats\n",
    "import re\n",
    "\n",
    "mlb_df=pd.read_csv(\"assets/mlb.csv\")\n",
    "nhl_df=pd.read_csv(\"assets/nhl.csv\")\n",
    "nba_df=pd.read_csv(\"assets/nba.csv\")\n",
    "nfl_df=pd.read_csv(\"assets/nfl.csv\")\n",
    "cities=pd.read_html(\"assets/wikipedia_data.html\")[1]\n",
    "cities=cities.iloc[:-1,[0,3,5,6,7,8]]\n",
    "\n",
    "def sports_team_performance():\n",
    "    # YOUR CODE HERE\n",
    "    raise NotImplementedError()\n",
    "    \n",
    "    # Note: p_values is a full dataframe, so df.loc[\"NFL\",\"NBA\"] should be the same as df.loc[\"NBA\",\"NFL\"] and\n",
    "    # df.loc[\"NFL\",\"NFL\"] should return np.nan\n",
    "    sports = ['NFL', 'NBA', 'NHL', 'MLB']\n",
    "    p_values = pd.DataFrame({k:np.nan for k in sports}, index=sports)\n",
    "    \n",
    "    assert abs(p_values.loc[\"NBA\", \"NHL\"] - 0.02) <= 1e-2, \"The NBA-NHL p-value should be around 0.02\"\n",
    "    assert abs(p_values.loc[\"MLB\", \"NFL\"] - 0.80) <= 1e-2, \"The MLB-NFL p-value should be around 0.80\"\n",
    "    return p_values"
   ]
  },
  {
   "cell_type": "code",
   "execution_count": null,
   "metadata": {
    "deletable": false,
    "editable": false,
    "nbgrader": {
     "cell_type": "code",
     "checksum": "2a596ab421a45cc01168d10e8fbb8f89",
     "grade": true,
     "grade_id": "cell-fb4b9cb5ff4570a6",
     "locked": true,
     "points": 20,
     "schema_version": 3,
     "solution": false
    }
   },
   "outputs": [],
   "source": []
  }
 ],
 "metadata": {
  "coursera": {
   "schema_names": [
    "mooc_adswpy_v1_assignment4"
   ]
  },
  "kernelspec": {
   "display_name": "Python 3 (ipykernel)",
   "language": "python",
   "name": "python3"
  },
  "language_info": {
   "codemirror_mode": {
    "name": "ipython",
    "version": 3
   },
   "file_extension": ".py",
   "mimetype": "text/x-python",
   "name": "python",
   "nbconvert_exporter": "python",
   "pygments_lexer": "ipython3",
   "version": "3.8.10"
  }
 },
 "nbformat": 4,
 "nbformat_minor": 4
}
