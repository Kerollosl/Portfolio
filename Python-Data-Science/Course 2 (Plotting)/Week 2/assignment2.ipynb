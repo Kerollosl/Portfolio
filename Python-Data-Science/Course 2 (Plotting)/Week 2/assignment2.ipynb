{
 "cells": [
  {
   "cell_type": "code",
   "execution_count": 1,
   "metadata": {
    "deletable": false,
    "editable": false,
    "nbgrader": {
     "cell_type": "code",
     "checksum": "e45d05a7e6705e7bc18fff5d5890ef58",
     "grade": false,
     "grade_id": "cell-44ca835c70f3040a",
     "locked": true,
     "schema_version": 3,
     "solution": false,
     "task": false
    }
   },
   "outputs": [
    {
     "data": {
      "application/javascript": [
       "IPython.OutputArea.prototype._should_scroll = function(lines) {\n",
       "    return false; // disable scroll bar when displaying Folium map\n",
       "}\n"
      ],
      "text/plain": [
       "<IPython.core.display.Javascript object>"
      ]
     },
     "metadata": {},
     "output_type": "display_data"
    }
   ],
   "source": [
    "%%javascript\n",
    "IPython.OutputArea.prototype._should_scroll = function(lines) {\n",
    "    return false; // disable scroll bar when displaying Folium map\n",
    "}"
   ]
  },
  {
   "cell_type": "markdown",
   "metadata": {
    "deletable": false,
    "editable": false,
    "nbgrader": {
     "cell_type": "markdown",
     "checksum": "ae6111747a75bdb5c5393f44d1045577",
     "grade": false,
     "grade_id": "cell-c676d66924c74eea",
     "locked": true,
     "schema_version": 3,
     "solution": false,
     "task": false
    }
   },
   "source": [
    "# Assignment 2\n",
    "\n",
    "Before working on this assignment please read these instructions fully. In the submission area, you will notice that you can click the link to **Preview the Grading** for each step of the assignment. This is the criteria that will be used for peer grading. Please familiarize yourself with the criteria before beginning the assignment.\n",
    "\n",
    "The data for this assignment comes from a subset of The National Centers for Environmental Information (NCEI) [Global Historical Climatology Network daily (GHCNd)](https://www.ncei.noaa.gov/products/land-based-station/global-historical-climatology-network-daily) (GHCN-Daily). The GHCN-Daily is comprised of daily climate records from thousands of land surface stations across the globe - it's a wonderfully large dataset to play with! In particular, you will be asked to use data from the Ann Arbor Michigan location (my home!). and this is stored in the file: `assets/fb441e62df2d58994928907a91895ec62c2c42e6cd075c2700843b89.csv`\n",
    "\n",
    "Each row in this datafile corresponds to a single observation from a weather station, and has the following variables:\n",
    "* **id** : station identification code\n",
    "* **date** : date in YYYY-MM-DD format (e.g. 2012-01-24 = January 24, 2012)\n",
    "* **element** : indicator of element type\n",
    "    * TMAX : Maximum temperature (tenths of degrees C)\n",
    "    * TMIN : Minimum temperature (tenths of degrees C)\n",
    "* **value** : data value for element (tenths of degrees C)\n",
    "\n",
    "For this assignment, you must:\n",
    "\n",
    "1. Read the documentation and familiarize yourself with the dataset, then write a python notebook which plots line graphs of the record high and record low temperatures by day of the year over the period 2005-2014. The area between the record high and record low temperatures for each day should be shaded.\n",
    "2. Overlay a scatter of the 2015 data for any points (highs and lows) for which the ten year record (2005-2014) record high or record low was broken in 2015. (Based on the graph, do you think extreme weather is getting more frequent in 2015?)\n",
    "3. Watch out for leap days (i.e. February 29th), it is reasonable to remove these points from the dataset for the purpose of this visualization.\n",
    "4. Make the visual nice! Leverage principles from the first module in this course when developing your solution. Consider issues such as legends, labels, and chart junk.\n",
    "\n",
    "I've written some steps I think would be good to go through, but there are other ways to solve this assignment so feel free to explore the pandas library! What I really want to see is an image that looks like this sketch I drew at my desk:\n",
    "\n",
    "![](assets/chris_sketch.png)"
   ]
  },
  {
   "cell_type": "code",
   "execution_count": 32,
   "metadata": {
    "deletable": false,
    "editable": false,
    "nbgrader": {
     "cell_type": "code",
     "checksum": "d8d9355fc55599cd2ad34fdd140baac1",
     "grade": false,
     "grade_id": "cell-f01cb0e8645e7c07",
     "locked": true,
     "schema_version": 3,
     "solution": false,
     "task": false
    }
   },
   "outputs": [
    {
     "data": {
      "text/html": [
       "<div style=\"width:100%;\"><div style=\"position:relative;width:100%;height:0;padding-bottom:60%;\"><span style=\"color:#565656\">Make this Notebook Trusted to load map: File -> Trust Notebook</span><iframe srcdoc=\"&lt;!DOCTYPE html&gt;\n",
       "&lt;html&gt;\n",
       "&lt;head&gt;\n",
       "    \n",
       "    &lt;meta http-equiv=&quot;content-type&quot; content=&quot;text/html; charset=UTF-8&quot; /&gt;\n",
       "    \n",
       "        &lt;script&gt;\n",
       "            L_NO_TOUCH = false;\n",
       "            L_DISABLE_3D = false;\n",
       "        &lt;/script&gt;\n",
       "    \n",
       "    &lt;style&gt;html, body {width: 100%;height: 100%;margin: 0;padding: 0;}&lt;/style&gt;\n",
       "    &lt;style&gt;#map {position:absolute;top:0;bottom:0;right:0;left:0;}&lt;/style&gt;\n",
       "    &lt;script src=&quot;https://cdn.jsdelivr.net/npm/leaflet@1.6.0/dist/leaflet.js&quot;&gt;&lt;/script&gt;\n",
       "    &lt;script src=&quot;https://code.jquery.com/jquery-1.12.4.min.js&quot;&gt;&lt;/script&gt;\n",
       "    &lt;script src=&quot;https://maxcdn.bootstrapcdn.com/bootstrap/3.2.0/js/bootstrap.min.js&quot;&gt;&lt;/script&gt;\n",
       "    &lt;script src=&quot;https://cdnjs.cloudflare.com/ajax/libs/Leaflet.awesome-markers/2.0.2/leaflet.awesome-markers.js&quot;&gt;&lt;/script&gt;\n",
       "    &lt;link rel=&quot;stylesheet&quot; href=&quot;https://cdn.jsdelivr.net/npm/leaflet@1.6.0/dist/leaflet.css&quot;/&gt;\n",
       "    &lt;link rel=&quot;stylesheet&quot; href=&quot;https://maxcdn.bootstrapcdn.com/bootstrap/3.2.0/css/bootstrap.min.css&quot;/&gt;\n",
       "    &lt;link rel=&quot;stylesheet&quot; href=&quot;https://maxcdn.bootstrapcdn.com/bootstrap/3.2.0/css/bootstrap-theme.min.css&quot;/&gt;\n",
       "    &lt;link rel=&quot;stylesheet&quot; href=&quot;https://maxcdn.bootstrapcdn.com/font-awesome/4.6.3/css/font-awesome.min.css&quot;/&gt;\n",
       "    &lt;link rel=&quot;stylesheet&quot; href=&quot;https://cdnjs.cloudflare.com/ajax/libs/Leaflet.awesome-markers/2.0.2/leaflet.awesome-markers.css&quot;/&gt;\n",
       "    &lt;link rel=&quot;stylesheet&quot; href=&quot;https://cdn.jsdelivr.net/gh/python-visualization/folium/folium/templates/leaflet.awesome.rotate.min.css&quot;/&gt;\n",
       "    \n",
       "            &lt;meta name=&quot;viewport&quot; content=&quot;width=device-width,\n",
       "                initial-scale=1.0, maximum-scale=1.0, user-scalable=no&quot; /&gt;\n",
       "            &lt;style&gt;\n",
       "                #map_2eef0745b489115839508d9c4c4c06ac {\n",
       "                    position: relative;\n",
       "                    width: 100.0%;\n",
       "                    height: 500.0px;\n",
       "                    left: 0.0%;\n",
       "                    top: 0.0%;\n",
       "                }\n",
       "            &lt;/style&gt;\n",
       "        \n",
       "&lt;/head&gt;\n",
       "&lt;body&gt;\n",
       "    \n",
       "    \n",
       "            &lt;div class=&quot;folium-map&quot; id=&quot;map_2eef0745b489115839508d9c4c4c06ac&quot; &gt;&lt;/div&gt;\n",
       "        \n",
       "&lt;/body&gt;\n",
       "&lt;script&gt;\n",
       "    \n",
       "    \n",
       "            var map_2eef0745b489115839508d9c4c4c06ac = L.map(\n",
       "                &quot;map_2eef0745b489115839508d9c4c4c06ac&quot;,\n",
       "                {\n",
       "                    center: [41.9164, -84.0158],\n",
       "                    crs: L.CRS.EPSG3857,\n",
       "                    zoom: 9,\n",
       "                    zoomControl: true,\n",
       "                    preferCanvas: false,\n",
       "                }\n",
       "            );\n",
       "\n",
       "            \n",
       "\n",
       "        \n",
       "    \n",
       "            var tile_layer_8a6e13351212311bf7cb69758eeb8124 = L.tileLayer(\n",
       "                &quot;https://{s}.tile.openstreetmap.org/{z}/{x}/{y}.png&quot;,\n",
       "                {&quot;attribution&quot;: &quot;Data by \\u0026copy; \\u003ca href=\\&quot;http://openstreetmap.org\\&quot;\\u003eOpenStreetMap\\u003c/a\\u003e, under \\u003ca href=\\&quot;http://www.openstreetmap.org/copyright\\&quot;\\u003eODbL\\u003c/a\\u003e.&quot;, &quot;detectRetina&quot;: false, &quot;maxNativeZoom&quot;: 18, &quot;maxZoom&quot;: 18, &quot;minZoom&quot;: 0, &quot;noWrap&quot;: false, &quot;opacity&quot;: 1, &quot;subdomains&quot;: &quot;abc&quot;, &quot;tms&quot;: false}\n",
       "            ).addTo(map_2eef0745b489115839508d9c4c4c06ac);\n",
       "        \n",
       "    \n",
       "            var marker_c62867f80b6c5bb2b034d9899cbc4fc1 = L.marker(\n",
       "                [41.9164, -84.0158],\n",
       "                {}\n",
       "            ).addTo(map_2eef0745b489115839508d9c4c4c06ac);\n",
       "        \n",
       "    \n",
       "            var marker_ac42c68f52bbda6a1767cc54c62d9e40 = L.marker(\n",
       "                [42.2875, -83.7611],\n",
       "                {}\n",
       "            ).addTo(map_2eef0745b489115839508d9c4c4c06ac);\n",
       "        \n",
       "    \n",
       "            var marker_cc2d8491ebe09a68e4611365fb4a831f = L.marker(\n",
       "                [42.2417, -83.6933],\n",
       "                {}\n",
       "            ).addTo(map_2eef0745b489115839508d9c4c4c06ac);\n",
       "        \n",
       "    \n",
       "            var marker_dc26fed225673ba20b33134cbc216cd9 = L.marker(\n",
       "                [42.2947, -83.7108],\n",
       "                {}\n",
       "            ).addTo(map_2eef0745b489115839508d9c4c4c06ac);\n",
       "        \n",
       "    \n",
       "            var marker_34511bcffc285cfec39a0232d820d607 = L.marker(\n",
       "                [41.84, -83.8608],\n",
       "                {}\n",
       "            ).addTo(map_2eef0745b489115839508d9c4c4c06ac);\n",
       "        \n",
       "    \n",
       "            var marker_c0bec4d776d45352c978304dff1232d1 = L.marker(\n",
       "                [42.0636, -83.4358],\n",
       "                {}\n",
       "            ).addTo(map_2eef0745b489115839508d9c4c4c06ac);\n",
       "        \n",
       "    \n",
       "            var marker_180d649922889ed178a0d4cd88631459 = L.marker(\n",
       "                [42.3264, -84.0133],\n",
       "                {}\n",
       "            ).addTo(map_2eef0745b489115839508d9c4c4c06ac);\n",
       "        \n",
       "    \n",
       "            var marker_c8daa44c721828cf488c47aac760dd78 = L.marker(\n",
       "                [41.9553, -83.6489],\n",
       "                {}\n",
       "            ).addTo(map_2eef0745b489115839508d9c4c4c06ac);\n",
       "        \n",
       "    \n",
       "            var marker_bc9d5a3561b1574e1419fd86fb87d7af = L.marker(\n",
       "                [42.4344, -83.9858],\n",
       "                {}\n",
       "            ).addTo(map_2eef0745b489115839508d9c4c4c06ac);\n",
       "        \n",
       "    \n",
       "            var marker_7afe379d7c6c8d3de2296225cbccec41 = L.marker(\n",
       "                [42.1508, -84.0236],\n",
       "                {}\n",
       "            ).addTo(map_2eef0745b489115839508d9c4c4c06ac);\n",
       "        \n",
       "    \n",
       "            var marker_01cac1ac8263353900a50469061b0adc = L.marker(\n",
       "                [42.0664, -83.6186],\n",
       "                {}\n",
       "            ).addTo(map_2eef0745b489115839508d9c4c4c06ac);\n",
       "        \n",
       "    \n",
       "            var marker_a35e1bee5afac0a91eb6e38b9b776b44 = L.marker(\n",
       "                [42.0811, -83.6769],\n",
       "                {}\n",
       "            ).addTo(map_2eef0745b489115839508d9c4c4c06ac);\n",
       "        \n",
       "    \n",
       "            var marker_b561ccd1bb8240aeb97cfb6400917222 = L.marker(\n",
       "                [41.9069, -83.4158],\n",
       "                {}\n",
       "            ).addTo(map_2eef0745b489115839508d9c4c4c06ac);\n",
       "        \n",
       "    \n",
       "            var marker_d6e8e40a6575363fd7efde3d14e430ef = L.marker(\n",
       "                [41.9497, -83.28],\n",
       "                {}\n",
       "            ).addTo(map_2eef0745b489115839508d9c4c4c06ac);\n",
       "        \n",
       "    \n",
       "            var marker_86a88bc8a42d54827a6fed0580d4f33a = L.marker(\n",
       "                [42.1611, -83.7819],\n",
       "                {}\n",
       "            ).addTo(map_2eef0745b489115839508d9c4c4c06ac);\n",
       "        \n",
       "    \n",
       "            var marker_ad5eb8b44004807d7582dbbdb78cc776 = L.marker(\n",
       "                [42.1236, -83.82],\n",
       "                {}\n",
       "            ).addTo(map_2eef0745b489115839508d9c4c4c06ac);\n",
       "        \n",
       "    \n",
       "            var marker_74716cd5f4a40ce72e46daa2c41b7cba = L.marker(\n",
       "                [41.8069, -83.5831],\n",
       "                {}\n",
       "            ).addTo(map_2eef0745b489115839508d9c4c4c06ac);\n",
       "        \n",
       "    \n",
       "            var marker_5eb08786e2e252fc1b53fd4bc31cdd24 = L.marker(\n",
       "                [42.0028, -83.9336],\n",
       "                {}\n",
       "            ).addTo(map_2eef0745b489115839508d9c4c4c06ac);\n",
       "        \n",
       "    \n",
       "            var marker_308cc1bc1b4eb7faed18665606f342eb = L.marker(\n",
       "                [42.0283, -84.1108],\n",
       "                {}\n",
       "            ).addTo(map_2eef0745b489115839508d9c4c4c06ac);\n",
       "        \n",
       "    \n",
       "            var marker_cc7a37c4b5081ef7946977117cccf6a1 = L.marker(\n",
       "                [42.4356, -83.7831],\n",
       "                {}\n",
       "            ).addTo(map_2eef0745b489115839508d9c4c4c06ac);\n",
       "        \n",
       "    \n",
       "            var marker_cc2f39b512a819cca76fd1b37c6428da = L.marker(\n",
       "                [41.5631, -83.4764],\n",
       "                {}\n",
       "            ).addTo(map_2eef0745b489115839508d9c4c4c06ac);\n",
       "        \n",
       "    \n",
       "            var marker_af48f83caa79d4fef0080e9b9a209a77 = L.marker(\n",
       "                [42.2667, -84.4667],\n",
       "                {}\n",
       "            ).addTo(map_2eef0745b489115839508d9c4c4c06ac);\n",
       "        \n",
       "    \n",
       "            var marker_6c8129ff5d0ad691fe078b1af50bb09a = L.marker(\n",
       "                [42.2333, -83.5333],\n",
       "                {}\n",
       "            ).addTo(map_2eef0745b489115839508d9c4c4c06ac);\n",
       "        \n",
       "    \n",
       "            var marker_94d910c93e306998b55784e7dd3f13a8 = L.marker(\n",
       "                [42.2228, -83.7444],\n",
       "                {}\n",
       "            ).addTo(map_2eef0745b489115839508d9c4c4c06ac);\n",
       "        \n",
       "&lt;/script&gt;\n",
       "&lt;/html&gt;\" style=\"position:absolute;width:100%;height:100%;left:0;top:0;border:none !important;\" allowfullscreen webkitallowfullscreen mozallowfullscreen></iframe></div></div>"
      ],
      "text/plain": [
       "<folium.folium.Map at 0x7fc438543730>"
      ]
     },
     "metadata": {},
     "output_type": "display_data"
    }
   ],
   "source": [
    "#  I'll be using the folium package to render the data into a map in Jupyter.\n",
    "\n",
    "import folium\n",
    "import pandas as pd\n",
    "\n",
    "# get the location information for this dataset\n",
    "df = pd.read_csv('assets/BinSize_d400.csv')\n",
    "station_locations_by_hash = df[df['hash'] == 'fb441e62df2d58994928907a91895ec62c2c42e6cd075c2700843b89']\n",
    "\n",
    "# get longitude and lattitude to plot\n",
    "lons = station_locations_by_hash['LONGITUDE'].tolist()\n",
    "lats = station_locations_by_hash['LATITUDE'].tolist()\n",
    "\n",
    "# plot on a beautiful folium map\n",
    "my_map = folium.Map(location = [lats[0], lons[0]], height = 500,  zoom_start = 9)\n",
    "for lat, lon in zip(lats, lons):\n",
    "    folium.Marker([lat, lon]).add_to(my_map)\n",
    "\n",
    "# render map in Jupyter\n",
    "display(my_map)"
   ]
  },
  {
   "cell_type": "markdown",
   "metadata": {
    "deletable": false,
    "editable": false,
    "nbgrader": {
     "cell_type": "markdown",
     "checksum": "d2ee9d3c5ac53844b3ed48aa157f6204",
     "grade": false,
     "grade_id": "cell-695e4689bc5509b6",
     "locked": true,
     "schema_version": 3,
     "solution": false,
     "task": false
    }
   },
   "source": [
    "## Step 1\n",
    "Load the dataset and transform the data into Celsius (refer to documentation) then extract all of the rows which have minimum or maximum temperatures.\n",
    "\n",
    "__hint: when I did this step I had two DataFrame objects, each with ~80,000 entries in it__"
   ]
  },
  {
   "cell_type": "code",
   "execution_count": 181,
   "metadata": {
    "deletable": false,
    "editable": false,
    "nbgrader": {
     "cell_type": "code",
     "checksum": "dbfe393a2232a653ebbd81e518237a83",
     "grade": false,
     "grade_id": "cell-f508059dd84e9b7c",
     "locked": true,
     "schema_version": 3,
     "solution": false,
     "task": false
    }
   },
   "outputs": [
    {
     "data": {
      "text/html": [
       "<div>\n",
       "<style scoped>\n",
       "    .dataframe tbody tr th:only-of-type {\n",
       "        vertical-align: middle;\n",
       "    }\n",
       "\n",
       "    .dataframe tbody tr th {\n",
       "        vertical-align: top;\n",
       "    }\n",
       "\n",
       "    .dataframe thead th {\n",
       "        text-align: right;\n",
       "    }\n",
       "</style>\n",
       "<table border=\"1\" class=\"dataframe\">\n",
       "  <thead>\n",
       "    <tr style=\"text-align: right;\">\n",
       "      <th></th>\n",
       "      <th>ID</th>\n",
       "      <th>Date</th>\n",
       "      <th>Element</th>\n",
       "      <th>Data_Value</th>\n",
       "    </tr>\n",
       "  </thead>\n",
       "  <tbody>\n",
       "    <tr>\n",
       "      <th>0</th>\n",
       "      <td>USW00094889</td>\n",
       "      <td>2014-11-12</td>\n",
       "      <td>TMAX</td>\n",
       "      <td>22</td>\n",
       "    </tr>\n",
       "    <tr>\n",
       "      <th>1</th>\n",
       "      <td>USC00208972</td>\n",
       "      <td>2009-04-29</td>\n",
       "      <td>TMIN</td>\n",
       "      <td>56</td>\n",
       "    </tr>\n",
       "    <tr>\n",
       "      <th>2</th>\n",
       "      <td>USC00200032</td>\n",
       "      <td>2008-05-26</td>\n",
       "      <td>TMAX</td>\n",
       "      <td>278</td>\n",
       "    </tr>\n",
       "    <tr>\n",
       "      <th>3</th>\n",
       "      <td>USC00205563</td>\n",
       "      <td>2005-11-11</td>\n",
       "      <td>TMAX</td>\n",
       "      <td>139</td>\n",
       "    </tr>\n",
       "    <tr>\n",
       "      <th>4</th>\n",
       "      <td>USC00200230</td>\n",
       "      <td>2014-02-27</td>\n",
       "      <td>TMAX</td>\n",
       "      <td>-106</td>\n",
       "    </tr>\n",
       "  </tbody>\n",
       "</table>\n",
       "</div>"
      ],
      "text/plain": [
       "            ID        Date Element  Data_Value\n",
       "0  USW00094889  2014-11-12    TMAX          22\n",
       "1  USC00208972  2009-04-29    TMIN          56\n",
       "2  USC00200032  2008-05-26    TMAX         278\n",
       "3  USC00205563  2005-11-11    TMAX         139\n",
       "4  USC00200230  2014-02-27    TMAX        -106"
      ]
     },
     "execution_count": 181,
     "metadata": {},
     "output_type": "execute_result"
    }
   ],
   "source": [
    "import pandas as pd\n",
    "df = pd.read_csv('assets/fb441e62df2d58994928907a91895ec62c2c42e6cd075c2700843b89.csv')\n",
    "df.head()"
   ]
  },
  {
   "cell_type": "code",
   "execution_count": 182,
   "metadata": {},
   "outputs": [],
   "source": [
    "# In this code cell, transform the Data_Value column\n",
    "df=df[~df['Date'].isin(['2008-02-29','2012-02-29'])]\n",
    "df_min = df[df[\"Element\"]==\"TMIN\"].sort_values(by=[\"Date\"])\n",
    "df_max = df[df[\"Element\"]==\"TMAX\"].sort_values(by=[\"Date\"])\n",
    "df_max = df_max[[\"Date\",\"Data_Value\"]]\n",
    "df_min = df_min[[\"Date\",\"Data_Value\"]]\n"
   ]
  },
  {
   "cell_type": "markdown",
   "metadata": {
    "deletable": false,
    "editable": false,
    "nbgrader": {
     "cell_type": "markdown",
     "checksum": "76f2478088402765c38ed2b9db771916",
     "grade": false,
     "grade_id": "cell-c5718635688cb408",
     "locked": true,
     "schema_version": 3,
     "solution": false,
     "task": false
    }
   },
   "source": [
    "## Step 2\n",
    "In order to visualize the data we would plot the min and max data for each day of the year between the years 2005 and 2014 across all weather stations. But we also need to find out when the min or max temperature in 2015 falls below the min or rises above the max for the previous decade.\n",
    "\n",
    "If you did step 1 you have two Series objects with min and max times for the years 2005 through 2015. You can use Pandas `groupby` to create max and min temperature Series objects across all weather stations for each day of these years, and you can deal with the records for February 29 (the leap year) by dropping them.\n",
    "\n",
    "__hint: when I finished this step, I had two DataFrame objects, each with exactly 4015 observations in them__"
   ]
  },
  {
   "cell_type": "code",
   "execution_count": 183,
   "metadata": {},
   "outputs": [],
   "source": [
    "# create a DataFrame of maximum temperature by date\n",
    "df_max = df_max.groupby(['Date']).max()\n",
    "df_min = df_min.groupby(['Date']).min()\n",
    "# create a DataFrame of minimum temperatures by date"
   ]
  },
  {
   "cell_type": "markdown",
   "metadata": {
    "deletable": false,
    "editable": false,
    "nbgrader": {
     "cell_type": "markdown",
     "checksum": "0edac9c92f1b79eb9b21f302a3259c5e",
     "grade": false,
     "grade_id": "cell-d3a1a2647a47fe31",
     "locked": true,
     "schema_version": 3,
     "solution": false,
     "task": false
    }
   },
   "source": [
    "## Step 3\n",
    "Now that you have grouped the daily max and min temperatures for each day of the years 2005 through 2015, you can separate out the data for 2015. Then you can use the Pandas `groupby` function to find the max and min of the temperature data for each __day of the year__ for the 2005-2014 data.\n",
    "\n",
    "__hint: at the end of this step I had two DataFrames, one of maximum and the other of minimum values, which each had 365 observations in them. I also had another pair of similar DataFrames but only for the year 2015.__"
   ]
  },
  {
   "cell_type": "code",
   "execution_count": 184,
   "metadata": {},
   "outputs": [
    {
     "name": "stdout",
     "output_type": "stream",
     "text": [
      "           Data_Value  Year\n",
      "Month_Day                  \n",
      "01-01            -160  2005\n",
      "01-02            -267  2005\n",
      "01-03            -267  2005\n",
      "01-04            -261  2005\n",
      "01-05            -150  2005\n",
      "...               ...   ...\n",
      "12-27            -138  2005\n",
      "12-28            -166  2005\n",
      "12-29            -150  2005\n",
      "12-30            -144  2005\n",
      "12-31            -150  2005\n",
      "\n",
      "[365 rows x 2 columns]\n"
     ]
    }
   ],
   "source": [
    "# calculate the minimum and maximum values for the day of the year for 2005 through 2014\n",
    "df_max.index = pd.to_datetime(df_max.index)\n",
    "df_min.index = pd.to_datetime(df_min.index)\n",
    "\n",
    "df_max['Year']= df_max.index.year\n",
    "df_max['Month_Day']=df_max.index.strftime('%m-%d')\n",
    "df_min['Year']= df_min.index.year\n",
    "df_min['Month_Day']=df_min.index.strftime('%m-%d')\n",
    "\n",
    "\n",
    "df_min_last_year=df_min.copy(deep=True)\n",
    "df_min_last_year=df_min_last_year[df_min_last_year[\"Year\"]==2015]\n",
    "df_max_last_year=df_max.copy(deep=True)\n",
    "df_max_last_year=df_max_last_year[df_max_last_year[\"Year\"]==2015]\n",
    "\n",
    "\n",
    "\n",
    "df_max=df_max[df_max['Year']!=2015]\n",
    "df_min=df_min[df_min['Year']!=2015]\n",
    "df_max=df_max.groupby(['Month_Day']).max().sort_values(by=[\"Month_Day\"])\n",
    "df_min=df_min.groupby(['Month_Day']).min().sort_values(by=[\"Month_Day\"])\n",
    "\n",
    "#print(df_min)\n",
    "# calculate the minimum and maximum values for the years 2015"
   ]
  },
  {
   "cell_type": "markdown",
   "metadata": {
    "deletable": false,
    "editable": false,
    "nbgrader": {
     "cell_type": "markdown",
     "checksum": "d7de066a05b833f7ded9353ee2215ba8",
     "grade": false,
     "grade_id": "cell-25711f5fdbe49515",
     "locked": true,
     "schema_version": 3,
     "solution": false,
     "task": false
    }
   },
   "source": [
    "## Step 4\n",
    "Now it's time to plot! You need to explore matplotlib in order to plot line graphs of the min and max temperatures for the years 2005 through 2014 and to scatter plot __only__ the daily 2015 temperatures that exceeded those values."
   ]
  },
  {
   "cell_type": "code",
   "execution_count": 263,
   "metadata": {},
   "outputs": [
    {
     "data": {
      "text/plain": [
       "<function matplotlib.pyplot.show(close=None, block=None)>"
      ]
     },
     "execution_count": 263,
     "metadata": {},
     "output_type": "execute_result"
    },
    {
     "data": {
      "image/png": "[encoded data removed]",
      "text/plain": [
       "<Figure size 432x288 with 1 Axes>"
      ]
     },
     "metadata": {
      "needs_background": "light"
     },
     "output_type": "display_data"
    }
   ],
   "source": [
    "import matplotlib.pyplot as plt\n",
    "from calendar import month_abbr\n",
    "\n",
    "plt.figure()\n",
    "plt.plot(df_min.index,df_min['Data_Value'], c='blue', label=\"Lowest Min\")\n",
    "plt.plot(df_max.index,df_max['Data_Value'], c='red', label=\"Highest Max\")\n",
    "plt.title(\"Max/Min Daily Temperatures (2005-2015)\")\n",
    "plt.legend() \n",
    "\n",
    "plt.gca().fill_between(range(len(df_min['Data_Value'])), \n",
    "                       df_min['Data_Value'], df_max['Data_Value'], \n",
    "                       facecolor='grey', \n",
    "                       alpha=0.25)\n",
    "\n",
    "\n",
    "x_min, x_max = plt.xlim()\n",
    "x_step = (x_max - x_min)/13\n",
    "new_x_ticks=[]\n",
    "new_x_labels=[]\n",
    "for i in range(1,13):\n",
    "    new_x_ticks.append(x_min-3+x_step*i)\n",
    "    new_x_labels.append(month_abbr[i])\n",
    "    \n",
    "plt.xticks(new_x_ticks, new_x_labels)\n",
    "plt.show\n",
    "\n",
    "df_over_min=df_min_last_year.copy(deep=True).reset_index().set_index('Month_Day')\n",
    "df_over_max=df_max_last_year.copy(deep=True).reset_index().set_index('Month_Day')\n",
    "\n",
    "df_over_min=df_over_min[df_over_min['Data_Value']<df_min['Data_Value']]\n",
    "df_over_max=df_over_max[df_over_max['Data_Value']>df_max['Data_Value']]\n",
    "\n",
    "\n",
    "plt.scatter(x=df_over_min.index,y=df_over_min['Data_Value'], c='green',label=\"2015 Record\")\n",
    "plt.scatter(x=df_over_max.index,y=df_over_max['Data_Value'], c='green')\n",
    "\n",
    "plt.legend()\n",
    "#plt.xticks([])\n",
    "\n",
    "x_min, x_max = plt.xlim()\n",
    "x_step = (x_max - x_min)/13\n",
    "new_x_ticks=[]\n",
    "new_x_labels=[]\n",
    "for i in range(1,13):\n",
    "    new_x_ticks.append(x_min-3+x_step*i)\n",
    "    new_x_labels.append(month_abbr[i])\n",
    "    \n",
    "plt.xticks(new_x_ticks, new_x_labels)\n",
    "\n",
    "\n",
    "plt.show\n",
    "# put your plotting code here!"
   ]
  },
  {
   "cell_type": "code",
   "execution_count": null,
   "metadata": {},
   "outputs": [],
   "source": []
  }
 ],
 "metadata": {
  "coursera": {
   "schema_names": [
    "mooc_adswpy_v1_assignment2"
   ]
  },
  "kernelspec": {
   "display_name": "Python 3 (ipykernel)",
   "language": "python",
   "name": "python3"
  },
  "language_info": {
   "codemirror_mode": {
    "name": "ipython",
    "version": 3
   },
   "file_extension": ".py",
   "mimetype": "text/x-python",
   "name": "python",
   "nbconvert_exporter": "python",
   "pygments_lexer": "ipython3",
   "version": "3.8.10"
  }
 },
 "nbformat": 4,
 "nbformat_minor": 4
}
