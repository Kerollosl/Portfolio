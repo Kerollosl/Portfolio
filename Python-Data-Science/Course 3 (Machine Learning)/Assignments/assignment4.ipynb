{
 "cells": [
  {
   "cell_type": "markdown",
   "id": "69d305e9",
   "metadata": {
    "deletable": false,
    "editable": false,
    "nbgrader": {
     "cell_type": "markdown",
     "checksum": "e532a7b0bbaf722cc8e5496bfde02472",
     "grade": false,
     "grade_id": "cell-24e3b5e89f5669c5",
     "locked": true,
     "schema_version": 3,
     "solution": false,
     "task": false
    }
   },
   "source": [
    "---\n",
    "\n",
    "_You are currently looking at **version 1.0** of this notebook. To download notebooks and datafiles, as well as get help on Jupyter notebooks in the Coursera platform, visit the Jupyter Notebook FAQ course resource._\n",
    "\n",
    "---"
   ]
  },
  {
   "cell_type": "markdown",
   "id": "0be71ec1",
   "metadata": {
    "deletable": false,
    "editable": false,
    "nbgrader": {
     "cell_type": "markdown",
     "checksum": "2ddd869ec642dbe6404672b445fd4dd1",
     "grade": false,
     "grade_id": "cell-6757b7ecd16ad875",
     "locked": true,
     "schema_version": 3,
     "solution": false,
     "task": false
    }
   },
   "source": [
    "# Assignment 4 - Predicting and understanding viewer engagement with educational videos \n",
    "\n",
    "With the accelerating popularity of online educational experiences, the role of online lectures and other educational video continues to increase in scope and importance. Open access educational repositories such as <a href=\"http://videolectures.net/\">videolectures.net</a>, as well as Massive Open Online Courses (MOOCs) on platforms like Coursera, have made access to many thousands of lectures and tutorials an accessible option for millions of people around the world. Yet this impressive volume of content has also led to a challenge in how to find, filter, and match these videos with learners. This assignment gives you an example of how machine learning can be used to address part of that challenge.\n",
    "\n",
    "## About the prediction problem\n",
    "\n",
    "One critical property of a video is engagement: how interesting or \"engaging\" it is for viewers, so that they decide to keep watching. Engagement is critical for learning, whether the instruction is coming from a video or any other source. There are many ways to define engagement with video, but one common approach is to estimate it by measuring how much of the video a user watches. If the video is not interesting and does not engage a viewer, they will typically abandon it quickly, e.g. only watch 5 or 10% of the total. \n",
    "\n",
    "A first step towards providing the best-matching educational content is to understand which features of educational material make it engaging for learners in general. This is where predictive modeling can be applied, via supervised machine learning. For this assignment, your task is to predict how engaging an educational video is likely to be for viewers, based on a set of features extracted from the video's transcript, audio track, hosting site, and other sources.\n",
    "\n",
    "We chose this prediction problem for several reasons:\n",
    "\n",
    "* It combines a variety of features derived from a rich set of resources connected to the original data;\n",
    "* The manageable dataset size means the dataset and supervised models for it can be easily explored on a wide variety of computing platforms;\n",
    "* Predicting popularity or engagement for a media item, especially combined with understanding which features contribute to its success with viewers, is a fun problem but also a practical representative application of machine learning in a number of business and educational sectors.\n",
    "\n",
    "\n",
    "## About the dataset\n",
    "\n",
    "We extracted training and test datasets of educational video features from the VLE Dataset put together by researcher Sahan Bulathwela at University College London. \n",
    "\n",
    "We provide you with two data files for use in training and validating your models: train.csv and test.csv. Each row in these two files corresponds to a single educational video, and includes information about diverse properties of the video content as described further below. The target variable is `engagement` which was defined as True if the median percentage of the video watched across all viewers was at least 30%, and False otherwise.\n",
    "\n",
    "Note: Any extra variables that may be included in the training set are simply for your interest if you want an additional source of data for visualization, or to enable unsupervised and semi-supervised approaches. However, they are not included in the test set and thus cannot be used for prediction. **Only the data already included in your Coursera directory can be used for training the model for this assignment.**\n",
    "\n",
    "For this final assignment, you will bring together what you've learned across all four weeks of this course, by exploring different prediction models for this new dataset. In addition, we encourage you to apply what you've learned about model selection to do hyperparameter tuning using training/validation splits of the training data, to optimize the model and further increase its performance. In addition to a basic evaluation of model accuracy, we've also provided a utility function to visualize which features are most and least contributing to the overall model performance.\n",
    "\n",
    "**File descriptions** \n",
    "    assets/train.csv - the training set (Use only this data for training your model!)\n",
    "    assets/test.csv - the test set\n",
    "<br>\n",
    "\n",
    "**Data fields**\n",
    "\n",
    "train.csv & test.csv:\n",
    "\n",
    "    title_word_count - the number of words in the title of the video.\n",
    "    \n",
    "    document_entropy - a score indicating how varied the topics are covered in the video, based on the transcript. Videos with smaller entropy scores will tend to be more cohesive and more focused on a single topic.\n",
    "    \n",
    "    freshness - The number of days elapsed between 01/01/1970 and the lecture published date. Videos that are more recent will have higher freshness values.\n",
    "    \n",
    "    easiness - A text difficulty measure applied to the transcript. A lower score indicates more complex language used by the presenter.\n",
    "    \n",
    "    fraction_stopword_presence - A stopword is a very common word like 'the' or 'and'. This feature computes the fraction of all words that are stopwords in the video lecture transcript.\n",
    "    \n",
    "    speaker_speed - The average speaking rate in words per minute of the presenter in the video.\n",
    "    \n",
    "    silent_period_rate - The fraction of time in the lecture video that is silence (no speaking).\n",
    "    \n",
    "train.csv only:\n",
    "    \n",
    "    engagement - Target label for training. True if learners watched a substantial portion of the video (see description), or False otherwise.\n",
    "    \n",
    "\n",
    "## Evaluation\n",
    "\n",
    "Your predictions will be given as the probability that the corresponding video will be engaging to learners.\n",
    "\n",
    "The evaluation metric for this assignment is the Area Under the ROC Curve (AUC). \n",
    "\n",
    "Your grade will be based on the AUC score computed for your classifier. A model with an AUC (area under ROC curve) of at least 0.8 passes this assignment, and over 0.85 will receive full points.\n",
    "___\n",
    "\n",
    "For this assignment, create a function that trains a model to predict significant learner engagement with a video using `asset/train.csv`. Using this model, return a Pandas Series object of length 2309 with the data being the probability that each corresponding video from `readonly/test.csv` will be engaging (according to a model learned from the 'engagement' label in the training set), and the video index being in the `id` field.\n",
    "\n",
    "Example:\n",
    "\n",
    "    id\n",
    "       9240    0.401958\n",
    "       9241    0.105928\n",
    "       9242    0.018572\n",
    "                 ...\n",
    "       9243    0.208567\n",
    "       9244    0.818759\n",
    "       9245    0.018528\n",
    "             ...\n",
    "       Name: engagement, dtype: float32\n",
    "       \n",
    "### Hints\n",
    "\n",
    "* Make sure your code is working before submitting it to the autograder.\n",
    "\n",
    "* Print out and check your result to see whether there is anything weird (e.g., all probabilities are the same).\n",
    "\n",
    "* Generally the total runtime should be less than 10 mins. \n",
    "\n",
    "* Try to avoid global variables. If you have other functions besides engagement_model, you should move those functions inside the scope of engagement_model.\n",
    "\n",
    "* Be sure to first check the pinned threads in Week 4's discussion forum if you run into a problem you can't figure out.\n",
    "\n",
    "### Extensions\n",
    "\n",
    "* If this prediction task motivates you to explore further, you can find more details here on the original VLE dataset and others related to video engagement: https://github.com/sahanbull/VLE-Dataset\n",
    "\n"
   ]
  },
  {
   "cell_type": "code",
   "execution_count": 1,
   "id": "1218318f",
   "metadata": {
    "deletable": false,
    "editable": false,
    "nbgrader": {
     "cell_type": "code",
     "checksum": "b7dc38d94db79fb7160854a629c825a8",
     "grade": false,
     "grade_id": "cell-2c0cf4e0ffe5f447",
     "locked": true,
     "schema_version": 3,
     "solution": false,
     "task": false
    }
   },
   "outputs": [],
   "source": [
    "import warnings\n",
    "warnings.filterwarnings(\"ignore\")\n",
    "\n",
    "import os\n",
    "import pandas as pd\n",
    "import numpy as np\n",
    "import matplotlib.pyplot as plt\n",
    "\n",
    "np.random.seed(0)   # Do not change this value: required to be compatible with solutions generated by the autograder."
   ]
  },
  {
   "cell_type": "code",
   "execution_count": 43,
   "id": "a8d179ff",
   "metadata": {
    "deletable": false,
    "nbgrader": {
     "cell_type": "code",
     "checksum": "aef89dbca058b3768c5e369581c14bbb",
     "grade": false,
     "grade_id": "cell-f8da4477c345bf17",
     "locked": false,
     "schema_version": 3,
     "solution": true,
     "task": false
    }
   },
   "outputs": [
    {
     "name": "stdout",
     "output_type": "stream",
     "text": [
      "0.9999999999999999\n"
     ]
    },
    {
     "data": {
      "text/plain": [
       "id\n",
       "9240     0.090091\n",
       "9241     0.154004\n",
       "9242     0.095428\n",
       "9243     0.901250\n",
       "9244     0.111993\n",
       "           ...   \n",
       "11544    0.013270\n",
       "11545    0.007330\n",
       "11546    0.020072\n",
       "11547    0.933231\n",
       "11548    0.010614\n",
       "Name: true_prob, Length: 2309, dtype: float64"
      ]
     },
     "execution_count": 43,
     "metadata": {},
     "output_type": "execute_result"
    },
    {
     "data": {
      "image/png": "[encoded data removed]",
      "text/plain": [
       "<Figure size 1000x600 with 1 Axes>"
      ]
     },
     "metadata": {},
     "output_type": "display_data"
    }
   ],
   "source": [
    "def engagement_model():\n",
    "    from sklearn.ensemble import RandomForestClassifier\n",
    "    from sklearn.neural_network import MLPClassifier\n",
    "    from sklearn.model_selection import GridSearchCV\n",
    "    from sklearn.preprocessing import StandardScaler\n",
    "    scaler=StandardScaler()\n",
    "\n",
    " \n",
    "    from sklearn.metrics import roc_auc_score\n",
    "\n",
    "    \n",
    "    train_df = pd.read_csv('assets/train.csv').set_index('id')\n",
    "    test_df = pd.read_csv('assets/test.csv').set_index('id')\n",
    "    \n",
    "    X_train=train_df.iloc[:, :-1]\n",
    "    y_train=train_df.iloc[:, -1]\n",
    "    \n",
    "    X_test=test_df\n",
    "    \n",
    "    \n",
    "    clf = RandomForestClassifier().fit(X_train, y_train)\n",
    "   # grid_values = {#'n_estimators': [20, 40, 60, 80, 100]}\n",
    "                   #'max_features':['auto', 'sqrt']}\n",
    "                  # 'max_depth':[10, 20, 30, 40, 50, 60, 70, 80, 90, 100]}\n",
    "    \n",
    "    #grid_acc = GridSearchCV(clf,param_grid=grid_values)\n",
    "   # grid_acc.fit(X_train,y_train)\n",
    "   # print(pd.DataFrame(grid_acc.cv_results_))\n",
    "    \n",
    "    \n",
    "   \n",
    "    importances = clf.feature_importances_\n",
    "    indices = importances.argsort()[::-1]\n",
    "    sorted_importances = importances[indices]\n",
    "    sorted_features = X_train.columns[indices]\n",
    "    plt.figure(figsize=(10, 6))\n",
    "    plt.bar(range(X_train.shape[1]), sorted_importances, tick_label=sorted_features)\n",
    "    plt.xticks(rotation=90)\n",
    "    plt.title(\"Feature Importance\")\n",
    "    plt.xlabel(\"Features\")\n",
    "    plt.ylabel(\"Importance\")\n",
    "    plt.tight_layout()\n",
    "  #  plt.show()\n",
    "    \n",
    "    remove=['normalization_rate','title_word_count']\n",
    "    optimized_X_train = scaler.fit_transform(X_train.loc[:, ~X_train.columns.isin(remove)])\n",
    "    optimized_X_test = scaler.fit_transform(X_test.loc[:, ~X_test.columns.isin(remove)])\n",
    "\n",
    "   \n",
    "    \n",
    "    optimized_clf = RandomForestClassifier(n_estimators=200, max_depth=20)\n",
    "    \n",
    "    \n",
    "    #optimized_clf = MLPClassifier(solver='adam', alpha=0.1,hidden_layer_sizes=(30,10), random_state=1)\n",
    "    optimized_clf.fit(optimized_X_train, y_train)\n",
    "    X_test['true_prob'] = optimized_clf.predict_proba(optimized_X_test)[:, 1]\n",
    "    #print(optimized_X_test)\n",
    "    \n",
    "    # YOUR CODE HERE\n",
    "    #raise NotImplementedError()\n",
    "    rec =  pd.Series(X_test['true_prob'])\n",
    "    print(roc_auc_score(y_train,optimized_clf.predict_proba(optimized_X_train)[:, 1]))\n",
    "    return rec#(rec == 1.0).sum()\n",
    "engagement_model()"
   ]
  },
  {
   "cell_type": "code",
   "execution_count": 3,
   "id": "c78d565a",
   "metadata": {
    "deletable": false,
    "editable": false,
    "nbgrader": {
     "cell_type": "code",
     "checksum": "e3b639d19639542702a374e84b2efb8e",
     "grade": false,
     "grade_id": "cell-ee9c764493852fe4",
     "locked": true,
     "schema_version": 3,
     "solution": false,
     "task": false
    }
   },
   "outputs": [],
   "source": [
    "stu_ans = engagement_model()\n",
    "assert isinstance(stu_ans, pd.Series), \"Your function should return a pd.Series. \"\n",
    "assert len(stu_ans) == 2309, \"Your series is of incorrect length: expected 2309 \"\n",
    "assert np.issubdtype(stu_ans.index.dtype, np.integer), \"Your answer pd.Series should have an index of integer type representing video id.\""
   ]
  },
  {
   "cell_type": "code",
   "execution_count": null,
   "id": "24b6c9cb",
   "metadata": {
    "deletable": false,
    "editable": false,
    "nbgrader": {
     "cell_type": "code",
     "checksum": "bdbc39782ccccaa72a7a808b9025bba9",
     "grade": true,
     "grade_id": "cell-0372cfb70ab9b4de",
     "locked": true,
     "points": 4,
     "schema_version": 3,
     "solution": false,
     "task": false
    }
   },
   "outputs": [],
   "source": []
  },
  {
   "cell_type": "code",
   "execution_count": null,
   "id": "42118464",
   "metadata": {
    "deletable": false,
    "editable": false,
    "nbgrader": {
     "cell_type": "code",
     "checksum": "26a7c364781ea24c8e46c623e73c1d4a",
     "grade": true,
     "grade_id": "cell-df6ac3eec5bb54f7",
     "locked": true,
     "points": 1,
     "schema_version": 3,
     "solution": false,
     "task": false
    }
   },
   "outputs": [],
   "source": []
  }
 ],
 "metadata": {
  "kernelspec": {
   "display_name": "Python 3 (ipykernel)",
   "language": "python",
   "name": "python3"
  },
  "language_info": {
   "codemirror_mode": {
    "name": "ipython",
    "version": 3
   },
   "file_extension": ".py",
   "mimetype": "text/x-python",
   "name": "python",
   "nbconvert_exporter": "python",
   "pygments_lexer": "ipython3",
   "version": "3.9.13"
  },
  "vscode": {
   "interpreter": {
    "hash": "aee8b7b246df8f9039afb4144a1f6fd8d2ca17a180786b69acc140d282b71a49"
   }
  }
 },
 "nbformat": 4,
 "nbformat_minor": 5
}
