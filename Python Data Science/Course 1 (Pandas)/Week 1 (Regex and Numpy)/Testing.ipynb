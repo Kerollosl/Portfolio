{
 "cells": [
  {
   "cell_type": "code",
   "execution_count": 2,
   "id": "a8660e76-7cf5-4515-a585-f3d6af7e9efa",
   "metadata": {},
   "outputs": [
    {
     "data": {
      "text/plain": [
       "tuple"
      ]
     },
     "execution_count": 2,
     "metadata": {},
     "output_type": "execute_result"
    }
   ],
   "source": [
    "x = (1, 2, 3)\n",
    "type(x)"
   ]
  },
  {
   "cell_type": "code",
   "execution_count": 3,
   "id": "584bbf26-0133-428b-b1f4-05fcb6f9a1c2",
   "metadata": {},
   "outputs": [
    {
     "data": {
      "text/plain": [
       "list"
      ]
     },
     "execution_count": 3,
     "metadata": {},
     "output_type": "execute_result"
    }
   ],
   "source": [
    "x = [1, 2, 3]\n",
    "type(x)"
   ]
  },
  {
   "cell_type": "code",
   "execution_count": 6,
   "id": "26ef0609-1390-4695-bfba-a808cde68b65",
   "metadata": {},
   "outputs": [
    {
     "data": {
      "text/plain": [
       "'Christopher Brooks'"
      ]
     },
     "execution_count": 6,
     "metadata": {},
     "output_type": "execute_result"
    }
   ],
   "source": [
    "firstname = 'Christopher'\n",
    "lastname = 'Brooks'\n",
    "\n",
    "name= firstname+' '+lastname\n",
    "\n",
    "\n",
    "firstname\n",
    "lastname\n",
    "name"
   ]
  },
  {
   "cell_type": "code",
   "execution_count": 7,
   "id": "4ec04238-bb82-44eb-ac77-fbd7562d05a5",
   "metadata": {},
   "outputs": [
    {
     "data": {
      "text/plain": [
       "'Christopher'"
      ]
     },
     "execution_count": 7,
     "metadata": {},
     "output_type": "execute_result"
    }
   ],
   "source": [
    "first = name.split(' ')[0]\n",
    "\n",
    "first"
   ]
  },
  {
   "cell_type": "code",
   "execution_count": 9,
   "id": "a9afd71e-58e8-44f0-bc7c-860f62aebd89",
   "metadata": {},
   "outputs": [
    {
     "data": {
      "text/plain": [
       "'Brooks'"
      ]
     },
     "execution_count": 9,
     "metadata": {},
     "output_type": "execute_result"
    }
   ],
   "source": [
    "last = name.split(' ')[1]\n",
    "last"
   ]
  },
  {
   "cell_type": "code",
   "execution_count": 13,
   "id": "f2d3b421-55b2-4ff2-a81c-46f6100a27e6",
   "metadata": {},
   "outputs": [
    {
     "data": {
      "text/plain": [
       "'Bleu de Chanel is a Winter fragrance that is good for Everyday occasions with a top note of GOOOD SMELLLL and a price of $150'"
      ]
     },
     "execution_count": 13,
     "metadata": {},
     "output_type": "execute_result"
    }
   ],
   "source": [
    "bdc = {'name': \"Bleu de Chanel\",\n",
    "                  'season':\"Winter\", \n",
    "                  'occasion': \"Everyday\",\n",
    "                  'top_notes': \"GOOOD SMELLLL\",\n",
    "                  'price':150}\n",
    "profile_statement='{} is a {} fragrance that is good for {} occasions with a top note of {} and a price of ${}'\n",
    "\n",
    "formatted_statement = profile_statement.format(bdc['name'],\n",
    "                         bdc['season'],\n",
    "                         bdc['occasion'],\n",
    "                         bdc['top_notes'],\n",
    "                         bdc['price'])\n",
    "formatted_statement"
   ]
  },
  {
   "cell_type": "code",
   "execution_count": 14,
   "id": "f358ed13-8e57-4ee4-a908-70119a7d3417",
   "metadata": {},
   "outputs": [],
   "source": [
    "class Cologne:\n",
    "    gender = \"Mens\"\n",
    "    \n",
    "    def set_season(self, season):\n",
    "        self.season = season\n",
    "    \n",
    "    def set_occasion(self, occasion):\n",
    "        self.occasion = occasion\n",
    "    \n",
    "    def set_top_notes(self, top_notes):\n",
    "        self.top_notes = top_notes\n",
    "    \n",
    "    def set_price(self, price):\n",
    "        self.price = price\n",
    "    "
   ]
  },
  {
   "cell_type": "code",
   "execution_count": 17,
   "id": "30cd6299-c054-433d-8ce0-5a5bb1cfbef0",
   "metadata": {},
   "outputs": [
    {
     "data": {
      "text/plain": [
       "'Mens is a Winter fragrance that is good for Everyday occasions with a top note of GOOOD and a price of $150'"
      ]
     },
     "execution_count": 17,
     "metadata": {},
     "output_type": "execute_result"
    }
   ],
   "source": [
    "bdc= Cologne()\n",
    "\n",
    "bdc.set_season(\"Winter\")\n",
    "bdc.set_occasion(\"Everyday\")\n",
    "bdc.set_top_notes(\"GOOOD\")\n",
    "bdc.set_price(150)\n",
    "\n",
    "class_formatted_statement = profile_statement.format(bdc.gender, bdc.season, bdc.occasion, bdc.top_notes, bdc.price)\n",
    "\n",
    "class_formatted_statement"
   ]
  },
  {
   "cell_type": "code",
   "execution_count": 18,
   "id": "6d73f8f7-f5e6-4d65-8f43-7dea69d67232",
   "metadata": {},
   "outputs": [
    {
     "data": {
      "text/plain": [
       "<map at 0x7fbda01469d0>"
      ]
     },
     "execution_count": 18,
     "metadata": {},
     "output_type": "execute_result"
    }
   ],
   "source": [
    "store1 = [10.00, 11.00, 12.34, 2.34]\n",
    "store2 = [9.00, 11.10, 12.34, 2.01]\n",
    "cheapest = map(max, store1, store2)\n",
    "cheapest"
   ]
  },
  {
   "cell_type": "code",
   "execution_count": 19,
   "id": "43e94bb0-590f-4175-bee6-27e80ab7887e",
   "metadata": {},
   "outputs": [
    {
     "name": "stdout",
     "output_type": "stream",
     "text": [
      "10.0\n",
      "11.1\n",
      "12.34\n",
      "2.34\n"
     ]
    }
   ],
   "source": [
    "for item in cheapest:\n",
    "    print(item)"
   ]
  },
  {
   "cell_type": "code",
   "execution_count": null,
   "id": "9982c8d5-c710-4cc5-ac64-7e16cc4cf7a8",
   "metadata": {},
   "outputs": [],
   "source": [
    "my_list = []\n",
    "for number in range(0, 10):\n",
    "    if number % 2 == 0:\n",
    "        my_list.append(number)\n",
    "my_list\n",
    "\n",
    "my_list = [number for number in range(0,10) if number % 2 == 0]\n",
    "my_list"
   ]
  },
  {
   "cell_type": "code",
   "execution_count": 3,
   "id": "eb650926-9297-4677-b9a0-1dadbf6036a1",
   "metadata": {},
   "outputs": [
    {
     "data": {
      "text/plain": [
       "9"
      ]
     },
     "execution_count": 3,
     "metadata": {},
     "output_type": "execute_result"
    }
   ],
   "source": [
    "my_function = lambda a, b, c: (a + b) * c\n",
    "my_function(1, 2, 3)"
   ]
  },
  {
   "cell_type": "code",
   "execution_count": null,
   "id": "54b95490-dced-4949-8f23-490320df775e",
   "metadata": {},
   "outputs": [],
   "source": []
  }
 ],
 "metadata": {
  "kernelspec": {
   "display_name": "Python 3 (ipykernel)",
   "language": "python",
   "name": "python3"
  },
  "language_info": {
   "codemirror_mode": {
    "name": "ipython",
    "version": 3
   },
   "file_extension": ".py",
   "mimetype": "text/x-python",
   "name": "python",
   "nbconvert_exporter": "python",
   "pygments_lexer": "ipython3",
   "version": "3.8.10"
  }
 },
 "nbformat": 4,
 "nbformat_minor": 5
}
